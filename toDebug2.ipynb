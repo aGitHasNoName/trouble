{
 "cells": [
  {
   "cell_type": "markdown",
   "id": "f0cae9f8-5f2c-4a29-8d12-50b120a4ae3c",
   "metadata": {},
   "source": [
    "Sheet 1 of the excel file has coded data about animals found in a zoo.\n",
    "<br><br>We want to create a txt file that contains a list of full sentences describing the traits of only the birds in the file."
   ]
  },
  {
   "cell_type": "code",
   "execution_count": null,
   "id": "7b0135d5-c999-489a-afb3-a7d27d605874",
   "metadata": {},
   "outputs": [],
   "source": [
    "import pandas as pd"
   ]
  },
  {
   "cell_type": "code",
   "execution_count": null,
   "id": "52e34108-0e7f-47ff-a5a2-f251551becb3",
   "metadata": {},
   "outputs": [],
   "source": [
    "filename = \"zoo.xlsx\"\n",
    "output = \"birds.txt\""
   ]
  },
  {
   "cell_type": "code",
   "execution_count": null,
   "id": "fa7b9510-d5e6-4e9d-a315-9aee2c1fb449",
   "metadata": {},
   "outputs": [],
   "source": [
    "def birdFile(infile, outfile):\n",
    "    df = pd.read_excel(infile, sheet_name=0)\n",
    "    birds_df = df[df[\"type\"] == 2]\n",
    "    cols = [i for i in birds_df.columns() if i not in [\"animal\", \"type\"]]\n",
    "    for col in cols:\n",
    "        birds_df.loc[df[col] == 1, col] = col\n",
    "    bird_list_temp = []\n",
    "    for row in birds_df.itertuples():\n",
    "        bird = row.animals\n",
    "        bird_list_temp.append([i for i in row if type(i) == str])\n",
    "    with open(outfile, \"w\") as f:\n",
    "        for row in bird_list_temp:\n",
    "            string = \", \".join(row)\n",
    "            f.write(f\"Traits of a {row[0]} are: {string}.\\n\")\n"
   ]
  },
  {
   "cell_type": "code",
   "execution_count": null,
   "id": "3146538b-32b5-45ba-b619-dc0a5781d636",
   "metadata": {},
   "outputs": [],
   "source": [
    "birdFile(filename, output)"
   ]
  },
  {
   "cell_type": "code",
   "execution_count": null,
   "id": "a00da9df-39a8-439c-a175-1ce0bccb8cfb",
   "metadata": {},
   "outputs": [],
   "source": []
  }
 ],
 "metadata": {
  "kernelspec": {
   "display_name": "Python 3",
   "language": "python",
   "name": "python3"
  },
  "language_info": {
   "codemirror_mode": {
    "name": "ipython",
    "version": 3
   },
   "file_extension": ".py",
   "mimetype": "text/x-python",
   "name": "python",
   "nbconvert_exporter": "python",
   "pygments_lexer": "ipython3",
   "version": "3.8.2"
  }
 },
 "nbformat": 4,
 "nbformat_minor": 5
}
