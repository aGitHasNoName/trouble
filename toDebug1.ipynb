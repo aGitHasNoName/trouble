{
 "cells": [
  {
   "cell_type": "markdown",
   "id": "03d04296-627a-4020-8d4c-6a5f1852987a",
   "metadata": {},
   "source": [
    "Sheet 1 of the excel file has coded data about animals found in a zoo. One column is \"type\" which contains a numerical code from 1-7. \n",
    "<br><br>Sheet 2 of the excel file contains the key to what those 7 categories are - classes of animals, such as \"mammal\" and \"bird\".\n",
    "<br><br>This code will create a new csv file with the animal data. It replaces the \"type\" column (data is numerical, 1-7) with a new column called \"class\" (data is text; \"mammal\", \"bird\", etc.)."
   ]
  },
  {
   "cell_type": "code",
   "execution_count": null,
   "id": "38f33dc6-2172-4672-a1e6-9441bb8496d7",
   "metadata": {},
   "outputs": [],
   "source": [
    "import pandas as pd"
   ]
  },
  {
   "cell_type": "code",
   "execution_count": null,
   "id": "d54312f5-bc63-4949-88b3-46372d6ffdd2",
   "metadata": {},
   "outputs": [],
   "source": [
    "filename = \"zoo.xlsx\"\n",
    "output = \"cleanedZoo.csv\""
   ]
  },
  {
   "cell_type": "code",
   "execution_count": null,
   "id": "db8cbf0e-4a1e-4f80-8691-7b37729b2727",
   "metadata": {},
   "outputs": [],
   "source": [
    "def cleanFile(infile, outfile):\n",
    "    df = pd.read_excel(infile, sheet_name=0)\n",
    "    class_dict = pd.read_excel(infile, sheet_name=1).to_dict()\n",
    "    df[\"class\"] = class_dict[df[\"type\"]]\n",
    "    #df[\"class\"] = df.apply(lambda row: class_dict[row[\"type\"]], axis=1)\n",
    "    df.drop(\"type\")\n",
    "    df.to_csv(outfile)"
   ]
  },
  {
   "cell_type": "code",
   "execution_count": null,
   "id": "d572c16c-e5a3-477f-aae5-fa811aed59ce",
   "metadata": {},
   "outputs": [],
   "source": [
    "cleanFile(filename, output)"
   ]
  },
  {
   "cell_type": "code",
   "execution_count": null,
   "id": "9cd9dcc5-811f-4a19-8403-389a3109c46a",
   "metadata": {},
   "outputs": [],
   "source": []
  }
 ],
 "metadata": {
  "kernelspec": {
   "display_name": "Python 3",
   "language": "python",
   "name": "python3"
  },
  "language_info": {
   "codemirror_mode": {
    "name": "ipython",
    "version": 3
   },
   "file_extension": ".py",
   "mimetype": "text/x-python",
   "name": "python",
   "nbconvert_exporter": "python",
   "pygments_lexer": "ipython3",
   "version": "3.8.2"
  }
 },
 "nbformat": 4,
 "nbformat_minor": 5
}
